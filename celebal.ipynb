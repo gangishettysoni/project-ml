{
  "nbformat": 4,
  "nbformat_minor": 0,
  "metadata": {
    "colab": {
      "provenance": [],
      "authorship_tag": "ABX9TyNSrbDa7sFwIWsOntPIteyB",
      "include_colab_link": true
    },
    "kernelspec": {
      "name": "python3",
      "display_name": "Python 3"
    },
    "language_info": {
      "name": "python"
    }
  },
  "cells": [
    {
      "cell_type": "markdown",
      "metadata": {
        "id": "view-in-github",
        "colab_type": "text"
      },
      "source": [
        "<a href=\"https://colab.research.google.com/github/gangishettysoni/project-ml/blob/main/celebal.ipynb\" target=\"_parent\"><img src=\"https://colab.research.google.com/assets/colab-badge.svg\" alt=\"Open In Colab\"/></a>"
      ]
    },
    {
      "cell_type": "code",
      "source": [
        "#Step 1: Imports & Data Loading\n",
        "import pandas as pd\n",
        "import numpy as np\n",
        "import matplotlib.pyplot as plt\n",
        "import seaborn as sns\n",
        "\n",
        "from sklearn.model_selection import train_test_split, GridSearchCV\n",
        "from sklearn.preprocessing import StandardScaler, LabelEncoder\n",
        "from sklearn.metrics import classification_report, confusion_matrix, f1_score, accuracy_score\n",
        "from sklearn.ensemble import RandomForestClassifier\n",
        "\n",
        "import tensorflow as tf\n",
        "from tensorflow.keras.models import Sequential\n",
        "from tensorflow.keras.layers import Dense, Dropout\n",
        "from tensorflow.keras.callbacks import EarlyStopping\n",
        "\n",
        "# Load Data\n",
        "train = pd.read_parquet(\"train.parquet\")\n",
        "test = pd.read_parquet(\"test.parquet\")\n",
        "sample_submission = pd.read_parquet(\"sample_submission.parquet\")\n",
        "\n",
        "print(\"Train shape:\", train.shape)\n",
        "print(\"Test shape:\", test.shape)\n",
        "train.head()"
      ],
      "metadata": {
        "colab": {
          "base_uri": "https://localhost:8080/",
          "height": 241
        },
        "id": "etIhEQVXCP1-",
        "outputId": "e5db2f6e-bffa-4354-87d6-921cf5654b22"
      },
      "execution_count": 14,
      "outputs": [
        {
          "output_type": "stream",
          "name": "stdout",
          "text": [
            "Train shape: (1639424, 7)\n",
            "Test shape: (409856, 7)\n"
          ]
        },
        {
          "output_type": "execute_result",
          "data": {
            "text/plain": [
              "        Date        X1        X2   X3        X4        X5 target\n",
              "0 2020-12-16  1.518921  5.463154  1.0  2.718282  2.890372      0\n",
              "1 2020-12-16  1.546509  5.458010  1.0  2.718282  2.833213      1\n",
              "2 2020-12-16  1.645427  5.456560  1.0  7.389056  2.890372      1\n",
              "3 2020-12-16  1.652022  5.458479  1.0  2.718282  2.890372      1\n",
              "4 2020-12-16  1.695538  5.466709  1.0  2.718282  2.890372      0"
            ],
            "text/html": [
              "\n",
              "  <div id=\"df-d28d367b-7ca4-4a6e-9334-d024383c49b6\" class=\"colab-df-container\">\n",
              "    <div>\n",
              "<style scoped>\n",
              "    .dataframe tbody tr th:only-of-type {\n",
              "        vertical-align: middle;\n",
              "    }\n",
              "\n",
              "    .dataframe tbody tr th {\n",
              "        vertical-align: top;\n",
              "    }\n",
              "\n",
              "    .dataframe thead th {\n",
              "        text-align: right;\n",
              "    }\n",
              "</style>\n",
              "<table border=\"1\" class=\"dataframe\">\n",
              "  <thead>\n",
              "    <tr style=\"text-align: right;\">\n",
              "      <th></th>\n",
              "      <th>Date</th>\n",
              "      <th>X1</th>\n",
              "      <th>X2</th>\n",
              "      <th>X3</th>\n",
              "      <th>X4</th>\n",
              "      <th>X5</th>\n",
              "      <th>target</th>\n",
              "    </tr>\n",
              "  </thead>\n",
              "  <tbody>\n",
              "    <tr>\n",
              "      <th>0</th>\n",
              "      <td>2020-12-16</td>\n",
              "      <td>1.518921</td>\n",
              "      <td>5.463154</td>\n",
              "      <td>1.0</td>\n",
              "      <td>2.718282</td>\n",
              "      <td>2.890372</td>\n",
              "      <td>0</td>\n",
              "    </tr>\n",
              "    <tr>\n",
              "      <th>1</th>\n",
              "      <td>2020-12-16</td>\n",
              "      <td>1.546509</td>\n",
              "      <td>5.458010</td>\n",
              "      <td>1.0</td>\n",
              "      <td>2.718282</td>\n",
              "      <td>2.833213</td>\n",
              "      <td>1</td>\n",
              "    </tr>\n",
              "    <tr>\n",
              "      <th>2</th>\n",
              "      <td>2020-12-16</td>\n",
              "      <td>1.645427</td>\n",
              "      <td>5.456560</td>\n",
              "      <td>1.0</td>\n",
              "      <td>7.389056</td>\n",
              "      <td>2.890372</td>\n",
              "      <td>1</td>\n",
              "    </tr>\n",
              "    <tr>\n",
              "      <th>3</th>\n",
              "      <td>2020-12-16</td>\n",
              "      <td>1.652022</td>\n",
              "      <td>5.458479</td>\n",
              "      <td>1.0</td>\n",
              "      <td>2.718282</td>\n",
              "      <td>2.890372</td>\n",
              "      <td>1</td>\n",
              "    </tr>\n",
              "    <tr>\n",
              "      <th>4</th>\n",
              "      <td>2020-12-16</td>\n",
              "      <td>1.695538</td>\n",
              "      <td>5.466709</td>\n",
              "      <td>1.0</td>\n",
              "      <td>2.718282</td>\n",
              "      <td>2.890372</td>\n",
              "      <td>0</td>\n",
              "    </tr>\n",
              "  </tbody>\n",
              "</table>\n",
              "</div>\n",
              "    <div class=\"colab-df-buttons\">\n",
              "\n",
              "  <div class=\"colab-df-container\">\n",
              "    <button class=\"colab-df-convert\" onclick=\"convertToInteractive('df-d28d367b-7ca4-4a6e-9334-d024383c49b6')\"\n",
              "            title=\"Convert this dataframe to an interactive table.\"\n",
              "            style=\"display:none;\">\n",
              "\n",
              "  <svg xmlns=\"http://www.w3.org/2000/svg\" height=\"24px\" viewBox=\"0 -960 960 960\">\n",
              "    <path d=\"M120-120v-720h720v720H120Zm60-500h600v-160H180v160Zm220 220h160v-160H400v160Zm0 220h160v-160H400v160ZM180-400h160v-160H180v160Zm440 0h160v-160H620v160ZM180-180h160v-160H180v160Zm440 0h160v-160H620v160Z\"/>\n",
              "  </svg>\n",
              "    </button>\n",
              "\n",
              "  <style>\n",
              "    .colab-df-container {\n",
              "      display:flex;\n",
              "      gap: 12px;\n",
              "    }\n",
              "\n",
              "    .colab-df-convert {\n",
              "      background-color: #E8F0FE;\n",
              "      border: none;\n",
              "      border-radius: 50%;\n",
              "      cursor: pointer;\n",
              "      display: none;\n",
              "      fill: #1967D2;\n",
              "      height: 32px;\n",
              "      padding: 0 0 0 0;\n",
              "      width: 32px;\n",
              "    }\n",
              "\n",
              "    .colab-df-convert:hover {\n",
              "      background-color: #E2EBFA;\n",
              "      box-shadow: 0px 1px 2px rgba(60, 64, 67, 0.3), 0px 1px 3px 1px rgba(60, 64, 67, 0.15);\n",
              "      fill: #174EA6;\n",
              "    }\n",
              "\n",
              "    .colab-df-buttons div {\n",
              "      margin-bottom: 4px;\n",
              "    }\n",
              "\n",
              "    [theme=dark] .colab-df-convert {\n",
              "      background-color: #3B4455;\n",
              "      fill: #D2E3FC;\n",
              "    }\n",
              "\n",
              "    [theme=dark] .colab-df-convert:hover {\n",
              "      background-color: #434B5C;\n",
              "      box-shadow: 0px 1px 3px 1px rgba(0, 0, 0, 0.15);\n",
              "      filter: drop-shadow(0px 1px 2px rgba(0, 0, 0, 0.3));\n",
              "      fill: #FFFFFF;\n",
              "    }\n",
              "  </style>\n",
              "\n",
              "    <script>\n",
              "      const buttonEl =\n",
              "        document.querySelector('#df-d28d367b-7ca4-4a6e-9334-d024383c49b6 button.colab-df-convert');\n",
              "      buttonEl.style.display =\n",
              "        google.colab.kernel.accessAllowed ? 'block' : 'none';\n",
              "\n",
              "      async function convertToInteractive(key) {\n",
              "        const element = document.querySelector('#df-d28d367b-7ca4-4a6e-9334-d024383c49b6');\n",
              "        const dataTable =\n",
              "          await google.colab.kernel.invokeFunction('convertToInteractive',\n",
              "                                                    [key], {});\n",
              "        if (!dataTable) return;\n",
              "\n",
              "        const docLinkHtml = 'Like what you see? Visit the ' +\n",
              "          '<a target=\"_blank\" href=https://colab.research.google.com/notebooks/data_table.ipynb>data table notebook</a>'\n",
              "          + ' to learn more about interactive tables.';\n",
              "        element.innerHTML = '';\n",
              "        dataTable['output_type'] = 'display_data';\n",
              "        await google.colab.output.renderOutput(dataTable, element);\n",
              "        const docLink = document.createElement('div');\n",
              "        docLink.innerHTML = docLinkHtml;\n",
              "        element.appendChild(docLink);\n",
              "      }\n",
              "    </script>\n",
              "  </div>\n",
              "\n",
              "\n",
              "<div id=\"df-90b1901e-c0fe-49be-be01-8b63f870b478\">\n",
              "  <button class=\"colab-df-quickchart\" onclick=\"quickchart('df-90b1901e-c0fe-49be-be01-8b63f870b478')\"\n",
              "            title=\"Suggest charts\"\n",
              "            style=\"display:none;\">\n",
              "\n",
              "<svg xmlns=\"http://www.w3.org/2000/svg\" height=\"24px\"viewBox=\"0 0 24 24\"\n",
              "     width=\"24px\">\n",
              "    <g>\n",
              "        <path d=\"M19 3H5c-1.1 0-2 .9-2 2v14c0 1.1.9 2 2 2h14c1.1 0 2-.9 2-2V5c0-1.1-.9-2-2-2zM9 17H7v-7h2v7zm4 0h-2V7h2v10zm4 0h-2v-4h2v4z\"/>\n",
              "    </g>\n",
              "</svg>\n",
              "  </button>\n",
              "\n",
              "<style>\n",
              "  .colab-df-quickchart {\n",
              "      --bg-color: #E8F0FE;\n",
              "      --fill-color: #1967D2;\n",
              "      --hover-bg-color: #E2EBFA;\n",
              "      --hover-fill-color: #174EA6;\n",
              "      --disabled-fill-color: #AAA;\n",
              "      --disabled-bg-color: #DDD;\n",
              "  }\n",
              "\n",
              "  [theme=dark] .colab-df-quickchart {\n",
              "      --bg-color: #3B4455;\n",
              "      --fill-color: #D2E3FC;\n",
              "      --hover-bg-color: #434B5C;\n",
              "      --hover-fill-color: #FFFFFF;\n",
              "      --disabled-bg-color: #3B4455;\n",
              "      --disabled-fill-color: #666;\n",
              "  }\n",
              "\n",
              "  .colab-df-quickchart {\n",
              "    background-color: var(--bg-color);\n",
              "    border: none;\n",
              "    border-radius: 50%;\n",
              "    cursor: pointer;\n",
              "    display: none;\n",
              "    fill: var(--fill-color);\n",
              "    height: 32px;\n",
              "    padding: 0;\n",
              "    width: 32px;\n",
              "  }\n",
              "\n",
              "  .colab-df-quickchart:hover {\n",
              "    background-color: var(--hover-bg-color);\n",
              "    box-shadow: 0 1px 2px rgba(60, 64, 67, 0.3), 0 1px 3px 1px rgba(60, 64, 67, 0.15);\n",
              "    fill: var(--button-hover-fill-color);\n",
              "  }\n",
              "\n",
              "  .colab-df-quickchart-complete:disabled,\n",
              "  .colab-df-quickchart-complete:disabled:hover {\n",
              "    background-color: var(--disabled-bg-color);\n",
              "    fill: var(--disabled-fill-color);\n",
              "    box-shadow: none;\n",
              "  }\n",
              "\n",
              "  .colab-df-spinner {\n",
              "    border: 2px solid var(--fill-color);\n",
              "    border-color: transparent;\n",
              "    border-bottom-color: var(--fill-color);\n",
              "    animation:\n",
              "      spin 1s steps(1) infinite;\n",
              "  }\n",
              "\n",
              "  @keyframes spin {\n",
              "    0% {\n",
              "      border-color: transparent;\n",
              "      border-bottom-color: var(--fill-color);\n",
              "      border-left-color: var(--fill-color);\n",
              "    }\n",
              "    20% {\n",
              "      border-color: transparent;\n",
              "      border-left-color: var(--fill-color);\n",
              "      border-top-color: var(--fill-color);\n",
              "    }\n",
              "    30% {\n",
              "      border-color: transparent;\n",
              "      border-left-color: var(--fill-color);\n",
              "      border-top-color: var(--fill-color);\n",
              "      border-right-color: var(--fill-color);\n",
              "    }\n",
              "    40% {\n",
              "      border-color: transparent;\n",
              "      border-right-color: var(--fill-color);\n",
              "      border-top-color: var(--fill-color);\n",
              "    }\n",
              "    60% {\n",
              "      border-color: transparent;\n",
              "      border-right-color: var(--fill-color);\n",
              "    }\n",
              "    80% {\n",
              "      border-color: transparent;\n",
              "      border-right-color: var(--fill-color);\n",
              "      border-bottom-color: var(--fill-color);\n",
              "    }\n",
              "    90% {\n",
              "      border-color: transparent;\n",
              "      border-bottom-color: var(--fill-color);\n",
              "    }\n",
              "  }\n",
              "</style>\n",
              "\n",
              "  <script>\n",
              "    async function quickchart(key) {\n",
              "      const quickchartButtonEl =\n",
              "        document.querySelector('#' + key + ' button');\n",
              "      quickchartButtonEl.disabled = true;  // To prevent multiple clicks.\n",
              "      quickchartButtonEl.classList.add('colab-df-spinner');\n",
              "      try {\n",
              "        const charts = await google.colab.kernel.invokeFunction(\n",
              "            'suggestCharts', [key], {});\n",
              "      } catch (error) {\n",
              "        console.error('Error during call to suggestCharts:', error);\n",
              "      }\n",
              "      quickchartButtonEl.classList.remove('colab-df-spinner');\n",
              "      quickchartButtonEl.classList.add('colab-df-quickchart-complete');\n",
              "    }\n",
              "    (() => {\n",
              "      let quickchartButtonEl =\n",
              "        document.querySelector('#df-90b1901e-c0fe-49be-be01-8b63f870b478 button');\n",
              "      quickchartButtonEl.style.display =\n",
              "        google.colab.kernel.accessAllowed ? 'block' : 'none';\n",
              "    })();\n",
              "  </script>\n",
              "</div>\n",
              "\n",
              "    </div>\n",
              "  </div>\n"
            ],
            "application/vnd.google.colaboratory.intrinsic+json": {
              "type": "dataframe",
              "variable_name": "train"
            }
          },
          "metadata": {},
          "execution_count": 14
        }
      ]
    },
    {
      "cell_type": "code",
      "source": [
        "import warnings\n",
        "warnings.filterwarnings('ignore')"
      ],
      "metadata": {
        "id": "YSrBNdH8FCaL"
      },
      "execution_count": 15,
      "outputs": []
    },
    {
      "cell_type": "markdown",
      "source": [
        "train.info() shows dataset structure (columns, data types, non-null counts) and memory usage.\n",
        "\n",
        "while train.describe() provides statistical summaries (mean, min, max, quartiles) for numerical columns.\n",
        "\n",
        "sns.countplot() visualizes the target class distribution to check for imbalance, helping assess if techniques like resampling are needed for modeling."
      ],
      "metadata": {
        "id": "K0EAe912zBFc"
      }
    },
    {
      "cell_type": "code",
      "source": [
        "#Step 2: Basic EDA\n",
        "print(train.info())\n",
        "print(train.describe())\n",
        "\n",
        "# Check class balance\n",
        "sns.countplot(x='target', data=train)\n",
        "plt.title(\"Target Class Distribution\")\n",
        "plt.show()"
      ],
      "metadata": {
        "colab": {
          "base_uri": "https://localhost:8080/",
          "height": 1000
        },
        "id": "jD_qihXMDx2f",
        "outputId": "b14f8365-7917-4293-f01c-9bce6d901106"
      },
      "execution_count": 16,
      "outputs": [
        {
          "output_type": "stream",
          "name": "stdout",
          "text": [
            "<class 'pandas.core.frame.DataFrame'>\n",
            "RangeIndex: 1639424 entries, 0 to 1639423\n",
            "Data columns (total 7 columns):\n",
            " #   Column  Non-Null Count    Dtype         \n",
            "---  ------  --------------    -----         \n",
            " 0   Date    1639424 non-null  datetime64[ns]\n",
            " 1   X1      1639424 non-null  float64       \n",
            " 2   X2      1639424 non-null  float64       \n",
            " 3   X3      1639424 non-null  float64       \n",
            " 4   X4      1639424 non-null  float64       \n",
            " 5   X5      1639424 non-null  float64       \n",
            " 6   target  1639424 non-null  object        \n",
            "dtypes: datetime64[ns](1), float64(5), object(1)\n",
            "memory usage: 87.6+ MB\n",
            "None\n",
            "                                Date            X1            X2  \\\n",
            "count                        1639424  1.639424e+06  1.639424e+06   \n",
            "mean   2022-12-03 07:23:43.817145600  1.139258e+00  5.488189e+00   \n",
            "min              2020-12-16 00:00:00  1.000000e+00  5.412539e+00   \n",
            "25%              2021-12-10 00:00:00  1.049171e+00  5.480597e+00   \n",
            "50%              2022-11-30 00:00:00  1.105171e+00  5.488979e+00   \n",
            "75%              2023-11-23 00:00:00  1.214096e+00  5.496717e+00   \n",
            "max              2024-12-11 00:00:00  4.014850e+00  5.541852e+00   \n",
            "std                              NaN  1.391992e-01  1.342811e-02   \n",
            "\n",
            "                 X3            X4            X5  \n",
            "count  1.639424e+06  1.639424e+06  1.639424e+06  \n",
            "mean   4.110388e+32  2.706323e+29  1.187219e+00  \n",
            "min    1.000000e+00  1.000000e+00  0.000000e+00  \n",
            "25%    1.000000e+00  1.000000e+00  0.000000e+00  \n",
            "50%    1.000000e+00  1.000000e+00  6.931472e-01  \n",
            "75%    1.000000e+00  2.718282e+00  2.890372e+00  \n",
            "max    1.651636e+38  5.540622e+34  3.465736e+00  \n",
            "std    2.346156e+35  5.812988e+31  1.304814e+00  \n"
          ]
        },
        {
          "output_type": "display_data",
          "data": {
            "text/plain": [
              "<Figure size 640x480 with 1 Axes>"
            ],
            "image/png": "[encoded data removed]"
          },
          "metadata": {}
        }
      ]
    },
    {
      "cell_type": "markdown",
      "source": [
        "**Feature Engineering**\n",
        "\n"
      ],
      "metadata": {
        "id": "zw3fa4B7zgm2"
      }
    },
    {
      "cell_type": "markdown",
      "source": [
        "1)Data Preparation Steps: First, the code converts text categories into numbers (but leaves the target variable alone), removes unnecessary columns like dates and IDs, and then splits the data into training and validation sets while keeping the same class balance. Finally, it adjusts all the numbers to a common scale so no single feature dominates just because it's bigger.\n",
        "\n",
        "2)Keeping Things Consistent: It carefully makes sure the test data gets treated exactly the same way as the training data - same columns removed, same category numbering, same scaling - to avoid problems when the model makes predictions on new data."
      ],
      "metadata": {
        "id": "2A1Q6tUG3vuc"
      }
    },
    {
      "cell_type": "code",
      "source": [
        "#Step 3: Feature Engineering\n",
        "\n",
        "# Encode categorical features\n",
        "# Get all object type columns except 'target' if it's an object type\n",
        "cat_cols = train.select_dtypes(include='object').columns\n",
        "if 'target' in cat_cols:\n",
        "    cat_cols = cat_cols.drop('target')\n",
        "\n",
        "for col in cat_cols:\n",
        "    le = LabelEncoder()\n",
        "    train[col] = le.fit_transform(train[col].astype(str))\n",
        "    test[col] = le.transform(test[col].astype(str))\n",
        "\n",
        "# Separate features and labels\n",
        "X = train.drop(['target', 'Date'], axis=1)  # Drop both target and Date columns\n",
        "y = train['target']\n",
        "\n",
        "# Make sure test set has same columns as training set\n",
        "test = test.drop(['Date', 'ID'], axis=1, errors='ignore')  # Drop ID if exists\n",
        "\n",
        "# Train-validation split\n",
        "X_train, X_val, y_train, y_val = train_test_split(X, y, stratify=y, test_size=0.2, random_state=42)\n",
        "\n",
        "# Normalize features\n",
        "scaler = StandardScaler()\n",
        "X_train_scaled = scaler.fit_transform(X_train)\n",
        "X_val_scaled = scaler.transform(X_val)\n",
        "X_test_scaled = scaler.transform(test)  # Now test has same features as training"
      ],
      "metadata": {
        "id": "QXDjBzC8D8pR"
      },
      "execution_count": 17,
      "outputs": []
    },
    {
      "cell_type": "markdown",
      "source": [
        "**classical model- Random Forest**"
      ],
      "metadata": {
        "id": "bFx9jCIW0Bw4"
      }
    },
    {
      "cell_type": "markdown",
      "source": [
        "A Random Forest is an ensemble machine learning method that combines multiple decision trees to improve prediction accuracy and reduce overfitting\n"
      ],
      "metadata": {
        "id": "DXg0plAy4oNl"
      }
    },
    {
      "cell_type": "markdown",
      "source": [
        "Model Implementation: This code trains a Random Forest classifier with 200 decision trees (each limited to 15 levels deep) on our preprocessed training data, then evaluates its performance on the validation set using precision/recall metrics.\n",
        "\n",
        "Key Advantages: Random Forest was chosen for its ability to handle complex patterns while avoiding overfitting (through ensemble voting) and providing feature importance insights, making it a robust baseline model before trying more complex algorithms."
      ],
      "metadata": {
        "id": "UGeXQ8YJ5K5h"
      }
    },
    {
      "cell_type": "code",
      "source": [
        "#Step 4: Classical Model - Random Forest\n",
        "\n",
        "rf = RandomForestClassifier(n_estimators=200, max_depth=15, random_state=42)\n",
        "rf.fit(X_train_scaled, y_train)\n",
        "y_pred_rf = rf.predict(X_val_scaled)\n",
        "\n",
        "print(\"Random Forest Classification Report:\")\n",
        "print(classification_report(y_val, y_pred_rf))"
      ],
      "metadata": {
        "colab": {
          "base_uri": "https://localhost:8080/"
        },
        "id": "BldEoMthEDqx",
        "outputId": "3297806e-2a23-4c6a-97de-ba85103fa563"
      },
      "execution_count": 18,
      "outputs": [
        {
          "output_type": "stream",
          "name": "stdout",
          "text": [
            "Random Forest Classification Report:\n",
            "              precision    recall  f1-score   support\n",
            "\n",
            "           0       0.99      1.00      1.00    325077\n",
            "           1       0.90      0.24      0.37      2808\n",
            "\n",
            "    accuracy                           0.99    327885\n",
            "   macro avg       0.94      0.62      0.68    327885\n",
            "weighted avg       0.99      0.99      0.99    327885\n",
            "\n"
          ]
        }
      ]
    },
    {
      "cell_type": "markdown",
      "source": [
        "# Evaluation for Random Forest\n",
        "---confusion matrix\n",
        "---Classification report\n",
        "---F1-score\n",
        "---Accuracy\n",
        "\n",
        "\n",
        "\n",
        "\n",
        "\n",
        "\n",
        "\n",
        "\n",
        "\n"
      ],
      "metadata": {
        "id": "6QzUP5qr0lJ1"
      }
    },
    {
      "cell_type": "markdown",
      "source": [
        "1. Performance Assessment: This code evaluates our model using key metrics - the classification report (precision/recall/F1 for each class), confusion matrix (correct vs incorrect predictions), plus overall F1 score (balance of precision-recall) and accuracy (correct prediction rate).\n",
        "\n",
        "2. Metric Selection: We use multiple metrics because accuracy alone can be misleading for imbalanced data - F1 score gives better insight into model performance across different classes, while the confusion matrix helps identify specific error patterns"
      ],
      "metadata": {
        "id": "UgNg3xqo53X7"
      }
    },
    {
      "cell_type": "code",
      "source": [
        "# Evaluation\n",
        "print(\"Classification Report:\\n\", classification_report(y_val, y_val_pred))\n",
        "print(\"Confusion Matrix:\\n\", confusion_matrix(y_val, y_val_pred))\n",
        "\n",
        "f1 = f1_score(y_val, y_val_pred, average='weighted')\n",
        "acc = accuracy_score(y_val, y_val_pred)\n",
        "print(\"F1 Score:\", f1)\n",
        "print(\"Accuracy:\", acc)\n"
      ],
      "metadata": {
        "colab": {
          "base_uri": "https://localhost:8080/"
        },
        "id": "EInLdY7nZ6e7",
        "outputId": "7d69f84b-b75a-47d1-a8dd-36d5a508758c"
      },
      "execution_count": 29,
      "outputs": [
        {
          "output_type": "stream",
          "name": "stdout",
          "text": [
            "Classification Report:\n",
            "               precision    recall  f1-score   support\n",
            "\n",
            "           0       0.99      1.00      1.00    325077\n",
            "           1       0.89      0.23      0.37      2808\n",
            "\n",
            "    accuracy                           0.99    327885\n",
            "   macro avg       0.94      0.62      0.68    327885\n",
            "weighted avg       0.99      0.99      0.99    327885\n",
            "\n",
            "Confusion Matrix:\n",
            " [[324992     85]\n",
            " [  2152    656]]\n",
            "F1 Score: 0.9912015208138137\n",
            "Accuracy: 0.9931774860088141\n"
          ]
        }
      ]
    },
    {
      "cell_type": "code",
      "source": [
        "# 🤖 Step 5: Deep Learning Model\n",
        "\n",
        "# First ensure y is properly encoded as integers\n",
        "y_train = y_train.astype(int)\n",
        "y_val = y_val.astype(int)\n",
        "\n",
        "# Get number of unique classes\n",
        "num_classes = len(np.unique(y_train))\n",
        "\n",
        "model = Sequential([\n",
        "    Dense(128, input_dim=X_train_scaled.shape[1], activation='relu'),\n",
        "    Dropout(0.3),\n",
        "    Dense(64, activation='relu'),\n",
        "    Dropout(0.3),\n",
        "    Dense(num_classes, activation='softmax')  # multi-class\n",
        "])\n",
        "\n",
        "model.compile(optimizer='adam',\n",
        "              loss='sparse_categorical_crossentropy',\n",
        "              metrics=['accuracy'])\n",
        "\n",
        "early_stop = EarlyStopping(monitor='val_loss', patience=5)\n",
        "\n",
        "history = model.fit(X_train_scaled, y_train,\n",
        "                    validation_data=(X_val_scaled, y_val),\n",
        "                    epochs=50,\n",
        "                    batch_size=32,\n",
        "                    callbacks=[early_stop])\n",
        "\n",
        "# Plot training history\n",
        "plt.plot(history.history['accuracy'], label='Train Acc')\n",
        "plt.plot(history.history['val_accuracy'], label='Val Acc')\n",
        "plt.legend()\n",
        "plt.title(\"Training History\")\n",
        "plt.show()\n",
        "\n",
        "y_pred_nn = model.predict(X_val_scaled).argmax(axis=1)\n",
        "print(\"Neural Network Classification Report:\")\n",
        "print(classification_report(y_val, y_pred_nn))"
      ],
      "metadata": {
        "colab": {
          "base_uri": "https://localhost:8080/",
          "height": 1000
        },
        "id": "PPj3XtXUIcZG",
        "outputId": "71b4e3ce-a921-4c66-bc3f-f229b6666b2b"
      },
      "execution_count": 21,
      "outputs": [
        {
          "output_type": "stream",
          "name": "stdout",
          "text": [
            "Epoch 1/50\n",
            "\u001b[1m40986/40986\u001b[0m \u001b[32m━━━━━━━━━━━━━━━━━━━━\u001b[0m\u001b[37m\u001b[0m \u001b[1m112s\u001b[0m 3ms/step - accuracy: 0.9916 - loss: 0.0360 - val_accuracy: 0.9923 - val_loss: 0.0308\n",
            "Epoch 2/50\n",
            "\u001b[1m40986/40986\u001b[0m \u001b[32m━━━━━━━━━━━━━━━━━━━━\u001b[0m\u001b[37m\u001b[0m \u001b[1m129s\u001b[0m 2ms/step - accuracy: 0.9923 - loss: 0.0319 - val_accuracy: 0.9924 - val_loss: 0.0307\n",
            "Epoch 3/50\n",
            "\u001b[1m40986/40986\u001b[0m \u001b[32m━━━━━━━━━━━━━━━━━━━━\u001b[0m\u001b[37m\u001b[0m \u001b[1m108s\u001b[0m 3ms/step - accuracy: 0.9923 - loss: 0.0316 - val_accuracy: 0.9924 - val_loss: 0.0300\n",
            "Epoch 4/50\n",
            "\u001b[1m40986/40986\u001b[0m \u001b[32m━━━━━━━━━━━━━━━━━━━━\u001b[0m\u001b[37m\u001b[0m \u001b[1m100s\u001b[0m 2ms/step - accuracy: 0.9923 - loss: 0.0317 - val_accuracy: 0.9925 - val_loss: 0.0302\n",
            "Epoch 5/50\n",
            "\u001b[1m40986/40986\u001b[0m \u001b[32m━━━━━━━━━━━━━━━━━━━━\u001b[0m\u001b[37m\u001b[0m \u001b[1m145s\u001b[0m 3ms/step - accuracy: 0.9923 - loss: 0.0313 - val_accuracy: 0.9923 - val_loss: 0.0303\n",
            "Epoch 6/50\n",
            "\u001b[1m40986/40986\u001b[0m \u001b[32m━━━━━━━━━━━━━━━━━━━━\u001b[0m\u001b[37m\u001b[0m \u001b[1m105s\u001b[0m 3ms/step - accuracy: 0.9923 - loss: 0.0317 - val_accuracy: 0.9925 - val_loss: 0.0299\n",
            "Epoch 7/50\n",
            "\u001b[1m40986/40986\u001b[0m \u001b[32m━━━━━━━━━━━━━━━━━━━━\u001b[0m\u001b[37m\u001b[0m \u001b[1m104s\u001b[0m 3ms/step - accuracy: 0.9924 - loss: 0.0313 - val_accuracy: 0.9925 - val_loss: 0.0308\n",
            "Epoch 8/50\n",
            "\u001b[1m40986/40986\u001b[0m \u001b[32m━━━━━━━━━━━━━━━━━━━━\u001b[0m\u001b[37m\u001b[0m \u001b[1m99s\u001b[0m 2ms/step - accuracy: 0.9923 - loss: 0.0324 - val_accuracy: 0.9924 - val_loss: 0.0299\n",
            "Epoch 9/50\n",
            "\u001b[1m40986/40986\u001b[0m \u001b[32m━━━━━━━━━━━━━━━━━━━━\u001b[0m\u001b[37m\u001b[0m \u001b[1m144s\u001b[0m 2ms/step - accuracy: 0.9924 - loss: 0.0314 - val_accuracy: 0.9924 - val_loss: 0.0301\n",
            "Epoch 10/50\n",
            "\u001b[1m40986/40986\u001b[0m \u001b[32m━━━━━━━━━━━━━━━━━━━━\u001b[0m\u001b[37m\u001b[0m \u001b[1m98s\u001b[0m 2ms/step - accuracy: 0.9923 - loss: 0.0320 - val_accuracy: 0.9925 - val_loss: 0.0298\n",
            "Epoch 11/50\n",
            "\u001b[1m40986/40986\u001b[0m \u001b[32m━━━━━━━━━━━━━━━━━━━━\u001b[0m\u001b[37m\u001b[0m \u001b[1m98s\u001b[0m 2ms/step - accuracy: 0.9923 - loss: 0.0321 - val_accuracy: 0.9925 - val_loss: 0.0296\n",
            "Epoch 12/50\n",
            "\u001b[1m40986/40986\u001b[0m \u001b[32m━━━━━━━━━━━━━━━━━━━━\u001b[0m\u001b[37m\u001b[0m \u001b[1m140s\u001b[0m 2ms/step - accuracy: 0.9923 - loss: 0.0318 - val_accuracy: 0.9925 - val_loss: 0.0302\n",
            "Epoch 13/50\n",
            "\u001b[1m40986/40986\u001b[0m \u001b[32m━━━━━━━━━━━━━━━━━━━━\u001b[0m\u001b[37m\u001b[0m \u001b[1m99s\u001b[0m 2ms/step - accuracy: 0.9924 - loss: 0.0316 - val_accuracy: 0.9924 - val_loss: 0.0299\n",
            "Epoch 14/50\n",
            "\u001b[1m40986/40986\u001b[0m \u001b[32m━━━━━━━━━━━━━━━━━━━━\u001b[0m\u001b[37m\u001b[0m \u001b[1m146s\u001b[0m 3ms/step - accuracy: 0.9923 - loss: 0.0317 - val_accuracy: 0.9924 - val_loss: 0.0311\n",
            "Epoch 15/50\n",
            "\u001b[1m40986/40986\u001b[0m \u001b[32m━━━━━━━━━━━━━━━━━━━━\u001b[0m\u001b[37m\u001b[0m \u001b[1m141s\u001b[0m 3ms/step - accuracy: 0.9923 - loss: 0.0318 - val_accuracy: 0.9924 - val_loss: 0.0303\n",
            "Epoch 16/50\n",
            "\u001b[1m40986/40986\u001b[0m \u001b[32m━━━━━━━━━━━━━━━━━━━━\u001b[0m\u001b[37m\u001b[0m \u001b[1m136s\u001b[0m 2ms/step - accuracy: 0.9924 - loss: 0.0315 - val_accuracy: 0.9924 - val_loss: 0.0298\n"
          ]
        },
        {
          "output_type": "display_data",
          "data": {
            "text/plain": [
              "<Figure size 640x480 with 1 Axes>"
            ],
            "image/png": "[encoded data removed]"
          },
          "metadata": {}
        },
        {
          "output_type": "stream",
          "name": "stdout",
          "text": [
            "\u001b[1m10247/10247\u001b[0m \u001b[32m━━━━━━━━━━━━━━━━━━━━\u001b[0m\u001b[37m\u001b[0m \u001b[1m12s\u001b[0m 1ms/step\n",
            "Neural Network Classification Report:\n",
            "              precision    recall  f1-score   support\n",
            "\n",
            "           0       0.99      1.00      1.00    325077\n",
            "           1       0.99      0.12      0.21      2808\n",
            "\n",
            "    accuracy                           0.99    327885\n",
            "   macro avg       0.99      0.56      0.60    327885\n",
            "weighted avg       0.99      0.99      0.99    327885\n",
            "\n"
          ]
        }
      ]
    },
    {
      "cell_type": "markdown",
      "source": [
        "# XGBoost Model"
      ],
      "metadata": {
        "id": "zv-tHsFt1tqQ"
      }
    },
    {
      "cell_type": "markdown",
      "source": [
        "XGBoost(Extreme Gradient Boosting) is an advanced machine learning algorithm that builds and combines multiple decision trees sequentially, where each new tree corrects the errors of the previous ones. It’s optimized for speed and performance, making it one of the most powerful models for structured data."
      ],
      "metadata": {
        "id": "eQ_42M5j57Fd"
      }
    },
    {
      "cell_type": "markdown",
      "source": [
        "Implementation & Tuning: This code trains an XGBoost classifier with 300 sequentially-built decision trees (limited to 6 levels deep), using a conservative learning rate (0.05) and random feature subsets (80%) to prevent overfitting while maintaining strong predictive power on our preprocessed data.\n",
        "\n",
        "Strategic Advantage: We chose XGBoost for its proven competition-winning performance - its gradient boosting approach systematically corrects errors from previous trees, and built-in regularization (via controlled learning rate/subsampling) delivers both accuracy and robustness where traditional Random Forests might struggle with complex patterns.\n"
      ],
      "metadata": {
        "id": "56IG58N57X-Z"
      }
    },
    {
      "cell_type": "code",
      "source": [
        "#  Train XGBoost Model\n",
        "!pip install xgboost\n",
        "from xgboost import XGBClassifier # import XGBClassifier from xgboost\n",
        "\n",
        "xgb_model = XGBClassifier(\n",
        "    n_estimators=300,\n",
        "    learning_rate=0.05,\n",
        "    max_depth=6,\n",
        "    subsample=0.8,\n",
        "    colsample_bytree=0.8,\n",
        "    random_state=42,\n",
        "    use_label_encoder=False,\n",
        "    eval_metric='mlogloss' #The mlogloss metric is specified for reliable multi-class evaluation during training.\n",
        ")\n",
        "\n",
        "xgb_model.fit(X_train_scaled, y_train)\n",
        "\n",
        "# Predict on validation set\n",
        "y_val_pred = xgb_model.predict(X_val_scaled)"
      ],
      "metadata": {
        "colab": {
          "base_uri": "https://localhost:8080/"
        },
        "id": "vI57THjGZBzf",
        "outputId": "1518b27b-6722-4023-fcdc-9b2d44e9d9f0"
      },
      "execution_count": 26,
      "outputs": [
        {
          "output_type": "stream",
          "name": "stdout",
          "text": [
            "Requirement already satisfied: xgboost in /usr/local/lib/python3.11/dist-packages (2.1.4)\n",
            "Requirement already satisfied: numpy in /usr/local/lib/python3.11/dist-packages (from xgboost) (2.0.2)\n",
            "Requirement already satisfied: nvidia-nccl-cu12 in /usr/local/lib/python3.11/dist-packages (from xgboost) (2.21.5)\n",
            "Requirement already satisfied: scipy in /usr/local/lib/python3.11/dist-packages (from xgboost) (1.14.1)\n"
          ]
        }
      ]
    },
    {
      "cell_type": "markdown",
      "source": [
        "# Evaluating the model for XGBoost\n",
        "\n",
        "---Classification report\n",
        "\n",
        "---confusion Matrix\n",
        "\n",
        "---F1 Score\n",
        "\n",
        "--- Accuracy\n",
        "\n",
        "\n",
        "\n",
        "\n",
        "\n",
        "\n",
        "\n",
        "\n"
      ],
      "metadata": {
        "id": "BnTo6lXJ174G"
      }
    },
    {
      "cell_type": "markdown",
      "source": [
        "Performance Evaluation: This code comprehensively assesses our XGBoost model's effectiveness by examining precision/recall per class (classification report), error patterns (confusion matrix), and overall metrics - using weighted F1 score (class-balanced performance) and accuracy (total correctness) for robust evaluation.\n",
        "\n",
        "Metric Selection Rationale: We go beyond simple accuracy to use F1 score (harmonic mean of precision/recall) because it better handles class imbalances, while the confusion matrix reveals specific weaknesses - together they provide actionable insights for model improvement in real-world scenarios.\n",
        "\n",
        "advantage: These metrics help us understand not just if the model works, but where and why it succeeds/fails, which is crucial for business applications."
      ],
      "metadata": {
        "id": "pJ1ep1PB8EEI"
      }
    },
    {
      "cell_type": "code",
      "source": [
        "# 📊 Evaluate the model\n",
        "print(\"Classification Report:\\n\", classification_report(y_val, y_val_pred))\n",
        "print(\"Confusion Matrix:\\n\", confusion_matrix(y_val, y_val_pred))\n",
        "\n",
        "f1 = f1_score(y_val, y_val_pred, average='weighted')\n",
        "acc = accuracy_score(y_val, y_val_pred)\n",
        "print(\"F1 Score:\", f1)\n",
        "print(\"Accuracy:\", acc)\n"
      ],
      "metadata": {
        "colab": {
          "base_uri": "https://localhost:8080/"
        },
        "id": "CtyktGBpZVm5",
        "outputId": "394f72a7-3ab5-4f64-85bc-3f17f0e35805"
      },
      "execution_count": 27,
      "outputs": [
        {
          "output_type": "stream",
          "name": "stdout",
          "text": [
            "Classification Report:\n",
            "               precision    recall  f1-score   support\n",
            "\n",
            "           0       0.99      1.00      1.00    325077\n",
            "           1       0.89      0.23      0.37      2808\n",
            "\n",
            "    accuracy                           0.99    327885\n",
            "   macro avg       0.94      0.62      0.68    327885\n",
            "weighted avg       0.99      0.99      0.99    327885\n",
            "\n",
            "Confusion Matrix:\n",
            " [[324992     85]\n",
            " [  2152    656]]\n",
            "F1 Score: 0.9912015208138137\n",
            "Accuracy: 0.9931774860088141\n"
          ]
        }
      ]
    },
    {
      "cell_type": "code",
      "source": [],
      "metadata": {
        "id": "X1mXrJgRbt_j"
      },
      "execution_count": null,
      "outputs": []
    },
    {
      "cell_type": "code",
      "source": [],
      "metadata": {
        "id": "3dtTP12Jbt8M"
      },
      "execution_count": null,
      "outputs": []
    },
    {
      "cell_type": "code",
      "source": [],
      "metadata": {
        "id": "TW6gNoRLbt5P"
      },
      "execution_count": null,
      "outputs": []
    },
    {
      "cell_type": "code",
      "source": [],
      "metadata": {
        "id": "w86ZPb8xbt2A"
      },
      "execution_count": null,
      "outputs": []
    },
    {
      "cell_type": "code",
      "source": [],
      "metadata": {
        "id": "9Ui2ELGObtpg"
      },
      "execution_count": null,
      "outputs": []
    },
    {
      "cell_type": "code",
      "source": [],
      "metadata": {
        "id": "xcBpPm6zELqK"
      },
      "execution_count": null,
      "outputs": []
    },
    {
      "cell_type": "code",
      "source": [],
      "metadata": {
        "id": "HFcrA_y8ELkd"
      },
      "execution_count": null,
      "outputs": []
    },
    {
      "cell_type": "code",
      "source": [],
      "metadata": {
        "id": "fJe9KsUDELeg"
      },
      "execution_count": null,
      "outputs": []
    },
    {
      "cell_type": "code",
      "source": [],
      "metadata": {
        "id": "AUzg1jF9ELSB"
      },
      "execution_count": null,
      "outputs": []
    }
  ]
}